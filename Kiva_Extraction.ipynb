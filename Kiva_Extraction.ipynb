{
  "nbformat": 4,
  "nbformat_minor": 0,
  "metadata": {
    "colab": {
      "name": "Kiva Extraction.ipynb",
      "provenance": [],
      "collapsed_sections": [],
      "authorship_tag": "ABX9TyNXUAqxbqcEeZ9jP5FcyLt+",
      "include_colab_link": true
    },
    "kernelspec": {
      "name": "python3",
      "display_name": "Python 3"
    },
    "language_info": {
      "name": "python"
    }
  },
  "cells": [
    {
      "cell_type": "markdown",
      "metadata": {
        "id": "view-in-github",
        "colab_type": "text"
      },
      "source": [
        "<a href=\"https://colab.research.google.com/github/Darkdew/Web-scraper--handling-design-anomalies/blob/main/Kiva_Extraction.ipynb\" target=\"_parent\"><img src=\"https://colab.research.google.com/assets/colab-badge.svg\" alt=\"Open In Colab\"/></a>"
      ]
    },
    {
      "cell_type": "code",
      "metadata": {
        "id": "e0gTsUs6Z-wg"
      },
      "source": [
        "import pandas as pd\n",
        "from bs4 import BeautifulSoup\n",
        "import json\n",
        "import csv"
      ],
      "execution_count": 1,
      "outputs": []
    },
    {
      "cell_type": "code",
      "metadata": {
        "id": "6FKBpuTnaPpd"
      },
      "source": [
        "df= pd.read_csv('/content/Kiva-all-US-Ravi.csv')"
      ],
      "execution_count": 2,
      "outputs": []
    },
    {
      "cell_type": "code",
      "metadata": {
        "colab": {
          "base_uri": "https://localhost:8080/"
        },
        "id": "5w_RJ5mcabG8",
        "outputId": "aa46c14a-7402-4168-a1d6-7aad0c29456f"
      },
      "source": [
        "df.shape"
      ],
      "execution_count": 3,
      "outputs": [
        {
          "output_type": "execute_result",
          "data": {
            "text/plain": [
              "(12697, 34)"
            ]
          },
          "metadata": {},
          "execution_count": 3
        }
      ]
    },
    {
      "cell_type": "code",
      "metadata": {
        "colab": {
          "base_uri": "https://localhost:8080/",
          "height": 675
        },
        "id": "NW9XY_m4ao51",
        "outputId": "52aa0a18-1079-415a-e8c0-fd16f46933b2"
      },
      "source": [
        "df.head()"
      ],
      "execution_count": 4,
      "outputs": [
        {
          "output_type": "execute_result",
          "data": {
            "text/html": [
              "<div>\n",
              "<style scoped>\n",
              "    .dataframe tbody tr th:only-of-type {\n",
              "        vertical-align: middle;\n",
              "    }\n",
              "\n",
              "    .dataframe tbody tr th {\n",
              "        vertical-align: top;\n",
              "    }\n",
              "\n",
              "    .dataframe thead th {\n",
              "        text-align: right;\n",
              "    }\n",
              "</style>\n",
              "<table border=\"1\" class=\"dataframe\">\n",
              "  <thead>\n",
              "    <tr style=\"text-align: right;\">\n",
              "      <th></th>\n",
              "      <th>LOAN_ID</th>\n",
              "      <th>LOAN_NAME</th>\n",
              "      <th>ORIGINAL_LANGUAGE</th>\n",
              "      <th>DESCRIPTION</th>\n",
              "      <th>DESCRIPTION_TRANSLATED</th>\n",
              "      <th>FUNDED_AMOUNT</th>\n",
              "      <th>LOAN_AMOUNT</th>\n",
              "      <th>STATUS</th>\n",
              "      <th>IMAGE_ID</th>\n",
              "      <th>VIDEO_ID</th>\n",
              "      <th>ACTIVITY_NAME</th>\n",
              "      <th>SECTOR_NAME</th>\n",
              "      <th>LOAN_USE</th>\n",
              "      <th>COUNTRY_CODE</th>\n",
              "      <th>COUNTRY_NAME</th>\n",
              "      <th>TOWN_NAME</th>\n",
              "      <th>CURRENCY_POLICY</th>\n",
              "      <th>CURRENCY_EXCHANGE_COVERAGE_RATE</th>\n",
              "      <th>CURRENCY</th>\n",
              "      <th>PARTNER_ID</th>\n",
              "      <th>POSTED_TIME</th>\n",
              "      <th>PLANNED_EXPIRATION_TIME</th>\n",
              "      <th>DISBURSE_TIME</th>\n",
              "      <th>RAISED_TIME</th>\n",
              "      <th>LENDER_TERM</th>\n",
              "      <th>NUM_LENDERS_TOTAL</th>\n",
              "      <th>NUM_JOURNAL_ENTRIES</th>\n",
              "      <th>NUM_BULK_ENTRIES</th>\n",
              "      <th>TAGS</th>\n",
              "      <th>BORROWER_NAMES</th>\n",
              "      <th>BORROWER_GENDERS</th>\n",
              "      <th>BORROWER_PICTURED</th>\n",
              "      <th>REPAYMENT_INTERVAL</th>\n",
              "      <th>DISTRIBUTION_MODEL</th>\n",
              "    </tr>\n",
              "  </thead>\n",
              "  <tbody>\n",
              "    <tr>\n",
              "      <th>0</th>\n",
              "      <td>461213</td>\n",
              "      <td>Martin</td>\n",
              "      <td>English</td>\n",
              "      <td>After Miguel established a successful retail b...</td>\n",
              "      <td>NaN</td>\n",
              "      <td>5000.0</td>\n",
              "      <td>5000.0</td>\n",
              "      <td>funded</td>\n",
              "      <td>1174796.0</td>\n",
              "      <td>NaN</td>\n",
              "      <td>Clothing Sales</td>\n",
              "      <td>Clothing</td>\n",
              "      <td>to buy women's clothing, hand bags, and access...</td>\n",
              "      <td>US</td>\n",
              "      <td>United States</td>\n",
              "      <td>Panorama City</td>\n",
              "      <td>standard</td>\n",
              "      <td>NaN</td>\n",
              "      <td>USD</td>\n",
              "      <td>228.0</td>\n",
              "      <td>2012-08-14 22:24:39.000 +0000</td>\n",
              "      <td>2012-09-24 18:50:09.000 +0000</td>\n",
              "      <td>2012-08-09 07:00:00.000 +0000</td>\n",
              "      <td>2012-08-28 23:57:00.000 +0000</td>\n",
              "      <td>38</td>\n",
              "      <td>95</td>\n",
              "      <td>2</td>\n",
              "      <td>1</td>\n",
              "      <td>NaN</td>\n",
              "      <td>Martin</td>\n",
              "      <td>male</td>\n",
              "      <td>true</td>\n",
              "      <td>monthly</td>\n",
              "      <td>field_partner</td>\n",
              "    </tr>\n",
              "    <tr>\n",
              "      <th>1</th>\n",
              "      <td>1404198</td>\n",
              "      <td>Jessica</td>\n",
              "      <td>English</td>\n",
              "      <td>I was born in Distrito Federal, Mexico. I came...</td>\n",
              "      <td>I was born in Distrito Federal, Mexico. I came...</td>\n",
              "      <td>2000.0</td>\n",
              "      <td>2000.0</td>\n",
              "      <td>funded</td>\n",
              "      <td>2713138.0</td>\n",
              "      <td>NaN</td>\n",
              "      <td>Cleaning Services</td>\n",
              "      <td>Services</td>\n",
              "      <td>helps me buy cleaning equipment and create a w...</td>\n",
              "      <td>US</td>\n",
              "      <td>United States</td>\n",
              "      <td>Hayward</td>\n",
              "      <td>standard</td>\n",
              "      <td>NaN</td>\n",
              "      <td>USD</td>\n",
              "      <td>NaN</td>\n",
              "      <td>2017-10-26 23:49:45.000 +0000</td>\n",
              "      <td>2017-12-20 22:42:26.000 +0000</td>\n",
              "      <td>2017-12-22 19:42:32.000 +0000</td>\n",
              "      <td>2017-12-18 18:27:20.000 +0000</td>\n",
              "      <td>18</td>\n",
              "      <td>47</td>\n",
              "      <td>1</td>\n",
              "      <td>1</td>\n",
              "      <td>#Parent, user_favorite, user_favorite, #Woman-...</td>\n",
              "      <td>Jessica</td>\n",
              "      <td>female</td>\n",
              "      <td>true</td>\n",
              "      <td>monthly</td>\n",
              "      <td>direct</td>\n",
              "    </tr>\n",
              "    <tr>\n",
              "      <th>2</th>\n",
              "      <td>1194779</td>\n",
              "      <td>Mark</td>\n",
              "      <td>English</td>\n",
              "      <td>My name is Mark Keeley and I grew up with my b...</td>\n",
              "      <td>My name is Mark Keeley and I grew up with my b...</td>\n",
              "      <td>8000.0</td>\n",
              "      <td>8000.0</td>\n",
              "      <td>funded</td>\n",
              "      <td>2374540.0</td>\n",
              "      <td>NaN</td>\n",
              "      <td>Energy</td>\n",
              "      <td>Services</td>\n",
              "      <td>us build a wind farm that will provide all th...</td>\n",
              "      <td>US</td>\n",
              "      <td>United States</td>\n",
              "      <td>West Hartford</td>\n",
              "      <td>standard</td>\n",
              "      <td>NaN</td>\n",
              "      <td>USD</td>\n",
              "      <td>NaN</td>\n",
              "      <td>2016-10-25 01:50:00.000 +0000</td>\n",
              "      <td>2017-01-03 17:14:13.000 +0000</td>\n",
              "      <td>2016-12-16 19:27:43.000 +0000</td>\n",
              "      <td>2016-12-14 17:21:04.000 +0000</td>\n",
              "      <td>36</td>\n",
              "      <td>200</td>\n",
              "      <td>4</td>\n",
              "      <td>2</td>\n",
              "      <td>user_favorite, #Sustainable Ag, user_favorite,...</td>\n",
              "      <td>Mark</td>\n",
              "      <td>male</td>\n",
              "      <td>true</td>\n",
              "      <td>monthly</td>\n",
              "      <td>direct</td>\n",
              "    </tr>\n",
              "    <tr>\n",
              "      <th>3</th>\n",
              "      <td>1306934</td>\n",
              "      <td>James</td>\n",
              "      <td>English</td>\n",
              "      <td>Growing up watching his father barbecue, as we...</td>\n",
              "      <td>Growing up watching his father barbecue, as we...</td>\n",
              "      <td>5000.0</td>\n",
              "      <td>5000.0</td>\n",
              "      <td>funded</td>\n",
              "      <td>2539820.0</td>\n",
              "      <td>NaN</td>\n",
              "      <td>Restaurant</td>\n",
              "      <td>Food</td>\n",
              "      <td>BBQ ROWE finish outfitting a food truck as we ...</td>\n",
              "      <td>US</td>\n",
              "      <td>United States</td>\n",
              "      <td>Chattanooga</td>\n",
              "      <td>standard</td>\n",
              "      <td>NaN</td>\n",
              "      <td>USD</td>\n",
              "      <td>NaN</td>\n",
              "      <td>2017-05-25 15:58:49.000 +0000</td>\n",
              "      <td>2017-07-31 00:40:27.000 +0000</td>\n",
              "      <td>2017-07-24 18:54:16.000 +0000</td>\n",
              "      <td>2017-07-22 17:53:14.000 +0000</td>\n",
              "      <td>24</td>\n",
              "      <td>113</td>\n",
              "      <td>2</td>\n",
              "      <td>1</td>\n",
              "      <td>user_favorite, #Biz Durable Asset, user_favori...</td>\n",
              "      <td>James</td>\n",
              "      <td>female</td>\n",
              "      <td>true</td>\n",
              "      <td>monthly</td>\n",
              "      <td>direct</td>\n",
              "    </tr>\n",
              "    <tr>\n",
              "      <th>4</th>\n",
              "      <td>1580286</td>\n",
              "      <td>Angela</td>\n",
              "      <td>English</td>\n",
              "      <td>We both grew up in upstate NY and now live in ...</td>\n",
              "      <td>We both grew up in upstate NY and now live in ...</td>\n",
              "      <td>10000.0</td>\n",
              "      <td>10000.0</td>\n",
              "      <td>funded</td>\n",
              "      <td>2921754.0</td>\n",
              "      <td>NaN</td>\n",
              "      <td>Retail</td>\n",
              "      <td>Retail</td>\n",
              "      <td>Our company to move forward making care packag...</td>\n",
              "      <td>US</td>\n",
              "      <td>United States</td>\n",
              "      <td>Brunswick</td>\n",
              "      <td>standard</td>\n",
              "      <td>NaN</td>\n",
              "      <td>USD</td>\n",
              "      <td>NaN</td>\n",
              "      <td>2018-08-01 21:31:19.000 +0000</td>\n",
              "      <td>2018-09-19 14:17:12.000 +0000</td>\n",
              "      <td>2018-09-17 17:39:44.000 +0000</td>\n",
              "      <td>2018-09-12 23:23:45.000 +0000</td>\n",
              "      <td>36</td>\n",
              "      <td>171</td>\n",
              "      <td>8</td>\n",
              "      <td>4</td>\n",
              "      <td>#Single Parent, #Parent, #Job Creator, user_fa...</td>\n",
              "      <td>Angela</td>\n",
              "      <td>female</td>\n",
              "      <td>true</td>\n",
              "      <td>monthly</td>\n",
              "      <td>direct</td>\n",
              "    </tr>\n",
              "  </tbody>\n",
              "</table>\n",
              "</div>"
            ],
            "text/plain": [
              "   LOAN_ID LOAN_NAME  ... REPAYMENT_INTERVAL DISTRIBUTION_MODEL\n",
              "0   461213    Martin  ...            monthly      field_partner\n",
              "1  1404198   Jessica  ...            monthly             direct\n",
              "2  1194779      Mark  ...            monthly             direct\n",
              "3  1306934     James  ...            monthly             direct\n",
              "4  1580286    Angela  ...            monthly             direct\n",
              "\n",
              "[5 rows x 34 columns]"
            ]
          },
          "metadata": {},
          "execution_count": 4
        }
      ]
    },
    {
      "cell_type": "code",
      "metadata": {
        "id": "3bSbPIdwb73i"
      },
      "source": [
        "list1= list(df.LOAN_ID)"
      ],
      "execution_count": 5,
      "outputs": []
    },
    {
      "cell_type": "code",
      "metadata": {
        "colab": {
          "base_uri": "https://localhost:8080/"
        },
        "id": "y3b192P4cwjk",
        "outputId": "0d76642d-6372-4da5-f9dc-a96227a8c4b9"
      },
      "source": [
        "len(list1)"
      ],
      "execution_count": 6,
      "outputs": [
        {
          "output_type": "execute_result",
          "data": {
            "text/plain": [
              "12697"
            ]
          },
          "metadata": {},
          "execution_count": 6
        }
      ]
    },
    {
      "cell_type": "code",
      "metadata": {
        "colab": {
          "base_uri": "https://localhost:8080/"
        },
        "id": "S2ijN4kpc0gj",
        "outputId": "08c3c2bf-917c-4654-d305-eb679e56ac35"
      },
      "source": [
        "type(list1)"
      ],
      "execution_count": 7,
      "outputs": [
        {
          "output_type": "execute_result",
          "data": {
            "text/plain": [
              "list"
            ]
          },
          "metadata": {},
          "execution_count": 7
        }
      ]
    },
    {
      "cell_type": "code",
      "metadata": {
        "id": "PaWm_VQbdmJT"
      },
      "source": [
        "import requests\n",
        "from bs4 import BeautifulSoup\n",
        "headers = {'User-Agent':'Mozilla/5.0 (Windows NT 10.0; Win64; x64) AppleWebKit/537.36 (KHTML, like Gecko) Chrome/91.0.4472.77 Safari/537.36'}"
      ],
      "execution_count": 8,
      "outputs": []
    },
    {
      "cell_type": "code",
      "metadata": {
        "id": "6nF_7XJF_Uzz"
      },
      "source": [
        "\n",
        "dataset_list=[]\n",
        "for items in list1:\n",
        "  temp_list=[]\n",
        "  print(items)\n",
        "  api_url= 'https://api.kivaws.org/v1/loans/'+str(items) + '.json'\n",
        "  r = requests.get(api_url, headers= headers)\n",
        "  soup = BeautifulSoup(r.text, 'lxml').text\n",
        "  #print(soup)\n",
        "  data = json.loads(str(soup))\n",
        "  #print(data)\n",
        "  loan_data= data['loans']\n",
        "  dict1= dict(loan_data[0])\n",
        "  #ID:\n",
        "  try:\n",
        "    ID = next(val for key, val in dict1.items() if 'id' in key)\n",
        "  except StopIteration:\n",
        "    ID= \"Not found\"\n",
        "\n",
        "  #name:\n",
        "  try:\n",
        "    Name = next(val for key, val in dict1.items() if 'name' in key)\n",
        "  except StopIteration:\n",
        "    Name= \"Not found\"\n",
        "\n",
        "  #description\n",
        "  try:\n",
        "    Description = next(val for key, val in dict1.items() if 'description' in key)\n",
        "  except StopIteration:\n",
        "    Description= \"Not found\"\n",
        "  \n",
        "  #status\n",
        "  try:\n",
        "    Status = next(val for key, val in dict1.items() if 'status' in key)\n",
        "  except StopIteration:\n",
        "    Status= \"Not found\"\n",
        "\n",
        "  #funded_amount\n",
        "  try:\n",
        "    Funded_amount = next(val for key, val in dict1.items() if 'funded_amount' in key)\n",
        "  except StopIteration:\n",
        "    Funded_amount= \"Not found\"\n",
        "  \n",
        "  #image\n",
        "  try:\n",
        "    Image = next(val for key, val in dict1.items() if 'image' in key)\n",
        "  except StopIteration:\n",
        "    Image= \"Not found\"\n",
        "  \n",
        "  #activity\n",
        "  try:\n",
        "    Activity = next(val for key, val in dict1.items() if 'activity' in key)\n",
        "  except StopIteration:\n",
        "    Activity= \"Not found\"\n",
        "\n",
        "  #sector\n",
        "  try:\n",
        "    Sector = next(val for key, val in dict1.items() if 'sector' in key)\n",
        "  except StopIteration:\n",
        "    Sector= \"Not found\"\n",
        "\n",
        "  #themes\n",
        "  try:\n",
        "    Themes = next(val for key, val in dict1.items() if 'themes' in key)\n",
        "  except StopIteration:\n",
        "    Themes= \"Not found\"\n",
        "  \n",
        "  #use\n",
        "  try:\n",
        "    Use = next(val for key, val in dict1.items() if 'use' in key)\n",
        "  except StopIteration:\n",
        "    Use= \"Not found\"\n",
        "  \n",
        "  #location\n",
        "  try:\n",
        "    Location = next(val for key, val in dict1.items() if 'location' in key)\n",
        "  except StopIteration:\n",
        "    Location= \"Not found\"\n",
        "  \n",
        "  #partner_id\n",
        "  try:\n",
        "    Partner_id = next(val for key, val in dict1.items() if 'partner_id' in key)\n",
        "  except StopIteration:\n",
        "    Partner_id= \"Not found\"\n",
        "  \n",
        "  #posted_date\n",
        "  try:\n",
        "    Posted_date = next(val for key, val in dict1.items() if 'posted_date' in key)\n",
        "  except StopIteration:\n",
        "    Posted_date= \"Not found\"\n",
        "  \n",
        "  #planned_expiration_date\n",
        "  try:\n",
        "    Planned_expiration_date = next(val for key, val in dict1.items() if 'planned_expiration_date' in key)\n",
        "  except StopIteration:\n",
        "    Planned_expiration_date= \"Not found\"\n",
        "  \n",
        "  #loan_amount\n",
        "  try:\n",
        "    Loan_amount = next(val for key, val in dict1.items() if 'loan_amount' in key)\n",
        "  except StopIteration:\n",
        "    Loan_amount= \"Not found\"\n",
        "  \n",
        "  #lender_count\n",
        "  try:\n",
        "    Lender_count = next(val for key, val in dict1.items() if 'lender_count' in key)\n",
        "  except StopIteration:\n",
        "    Lender_count= \"Not found\"\n",
        "  \n",
        "  #bonus_credit_eligibility\n",
        "  try:\n",
        "    Bonus_credit_eligibility = next(val for key, val in dict1.items() if 'bonus_credit_eligibility' in key)\n",
        "  except StopIteration:\n",
        "    Bonus_credit_eligibility= \"Not found\"\n",
        "  \n",
        "  #tags\n",
        "  try:\n",
        "    Tags = next(val for key, val in dict1.items() if 'tags' in key)\n",
        "  except StopIteration:\n",
        "    Tags= \"Not found\"\n",
        "  \n",
        "  #borrowers\n",
        "  try:\n",
        "    Borrowers = next(val for key, val in dict1.items() if 'borrowers' in key)\n",
        "  except StopIteration:\n",
        "    Borrowers= \"Not found\"\n",
        "  \n",
        "  #terms\n",
        "  try:\n",
        "    Terms = next(val for key, val in dict1.items() if 'terms' in key)\n",
        "  except StopIteration:\n",
        "    Terms= \"Not found\"\n",
        "  \n",
        "  #payments\n",
        "  try:\n",
        "    Payments = next(val for key, val in dict1.items() if 'payments' in key)\n",
        "  except StopIteration:\n",
        "    Payments= \"Not found\"\n",
        "  \n",
        "  #funded_date\n",
        "  try:\n",
        "    Funded_date = next(val for key, val in dict1.items() if 'funded_date' in key)\n",
        "  except StopIteration:\n",
        "    Funded_date= \"Not found\"\n",
        "  \n",
        "  #journal_totals\n",
        "  try:\n",
        "    Journal_totals = next(val for key, val in dict1.items() if 'journal_totals' in key)\n",
        "  except StopIteration:\n",
        "    Journal_totals= \"Not found\"\n",
        "  \n",
        "  #translator\n",
        "  try:\n",
        "    Translator = next(val for key, val in dict1.items() if 'translator' in key)\n",
        "  except StopIteration:\n",
        "    Translator= \"Not found\"\n",
        "  \n",
        "\n",
        "\n",
        "  temp_list= [ID, Name, Description, Status, Funded_amount, Image, Activity, Sector, Themes, Use, Location, Partner_id, Posted_date, Planned_expiration_date, Loan_amount, Lender_count, Bonus_credit_eligibility, Tags, Borrowers, Terms, Payments,  Funded_date, Journal_totals, Translator]\n",
        "\n",
        "  dataset_list.append(temp_list)\n",
        "\n",
        "\n",
        "\n",
        "df_final = pd.DataFrame(dataset_list, columns=(\"ID\", \"Name\", \"Description\", \"Status\", \"Funded_amount\", \"Image\", \"Activity\", \"Sector\", \"Themes\", \"Use\", \"Location\", \"Partner_id\", \"Posted_date\", \"Planned_expiration_date\", \"Loan_amount\", \"Lender_count\", \"Bonus_credit_eligibility\", \"Tags\", \"Borrowers\", \"Terms\", \"Payments\",  \"Funded_date\", \"Journal_totals\", \"Translator\"))\n",
        "df_final.to_csv('/content/sample_data/csvfinal.csv', index= False)\n",
        "\n",
        "\n",
        "\n",
        "\n",
        "\n",
        "\n",
        "\n",
        "\n",
        "\n",
        "\n",
        "\n",
        "\n",
        "  #dataset_list.append(loan_data)\n",
        "  #print(loan_data)\n",
        "  "
      ],
      "execution_count": null,
      "outputs": []
    },
    {
      "cell_type": "code",
      "metadata": {
        "colab": {
          "base_uri": "https://localhost:8080/"
        },
        "id": "we7DtV9LIb0B",
        "outputId": "9ec98df9-991d-4f36-84ed-7830f8395dd4"
      },
      "source": [
        "loan_data[0]"
      ],
      "execution_count": 23,
      "outputs": [
        {
          "output_type": "execute_result",
          "data": {
            "text/plain": [
              "{'activity': 'Cleaning Services',\n",
              " 'bonus_credit_eligibility': False,\n",
              " 'borrowers': [{'first_name': 'Jessica',\n",
              "   'gender': 'F',\n",
              "   'last_name': '',\n",
              "   'pictured': True}],\n",
              " 'description': {'languages': ['en'],\n",
              "  'texts': {'en': \"I was born in Distrito Federal, Mexico. I came from a relatively well off family. I was privileged enough to graduate high school and advance into a University. I learned a lot about finances and what it took to successfully open and operate a business. In 2005 I came to the United States in search of a new life and better opportunity. I am now a happily married mother of two children ages 12 and 7. I wish to continue to study and grow independently. My priorities are to give a better life to my family, and also better myself as a professional business person. I have lived a hard life but there are many obstacles I've had to overcome. We have lived off of very low income but I maintain very positive outlook. I have my priorities set. I am looking ahead and becoming innovative, always  looking for different opportunities and anything that will help me become the person I want to become. Having children has brought me close to my children since I have more time for them. I have various clients and I have had good business. Growing my business is something I have been working towards for years. My future goal is to have employees and also give opportunity to people less fortunate than I have been growing up.\"}},\n",
              " 'funded_amount': 2000,\n",
              " 'funded_date': '2017-12-18T18:27:20Z',\n",
              " 'id': 1404198,\n",
              " 'image': {'id': 2713138, 'template_id': 1},\n",
              " 'journal_totals': {'bulkEntries': 0, 'entries': 0},\n",
              " 'lender_count': 47,\n",
              " 'loan_amount': 2000,\n",
              " 'location': {'country': 'United States',\n",
              "  'country_code': 'US',\n",
              "  'geo': {'level': 'town', 'pairs': '37.674 -122.0894', 'type': 'point'},\n",
              "  'town': 'Hayward'},\n",
              " 'name': 'Jessica',\n",
              " 'payments': [],\n",
              " 'planned_expiration_date': '2017-12-20T22:42:26Z',\n",
              " 'posted_date': '2017-11-14T23:03:36Z',\n",
              " 'sector': 'Services',\n",
              " 'status': 'funded',\n",
              " 'tags': [{'id': '4', 'name': 'user_favorite'},\n",
              "  {'id': '6', 'name': '#Woman-Owned Business'},\n",
              "  {'id': '16', 'name': '#Parent'},\n",
              "  {'id': '35', 'name': '#Biz Durable Asset'},\n",
              "  {'id': '38', 'name': '#Technology'},\n",
              "  {'id': '40', 'name': '#US immigrant'},\n",
              "  {'id': '45', 'name': '#Latinx/Hispanic-Owned Business'}],\n",
              " 'terms': {'disbursal_amount': 2000,\n",
              "  'disbursal_currency': 'USD',\n",
              "  'disbursal_date': '2017-12-22T19:42:32Z',\n",
              "  'loan_amount': 2000,\n",
              "  'local_payments': [],\n",
              "  'loss_liability': {'currency_exchange': 'none', 'nonpayment': 'lender'},\n",
              "  'repayment_interval': 'Monthly',\n",
              "  'repayment_term': 18,\n",
              "  'scheduled_payments': []},\n",
              " 'use': 'helps me buy cleaning equipment and create a website for my house cleaning service.'}"
            ]
          },
          "metadata": {},
          "execution_count": 23
        }
      ]
    },
    {
      "cell_type": "code",
      "metadata": {
        "id": "VGBswIZiFtXi"
      },
      "source": [
        "count=0\n",
        "with open('data_file.csv', 'w', encoding='UTF-8', newline='') as f: \n",
        "  writer= csv.writer(f)\n",
        "  for loan_data in dataset_list:\n",
        "    for l in loan_data:\n",
        "      if count == 0:\n",
        " \n",
        "        # Writing headers of CSV file\n",
        "        header = l.keys()\n",
        "        \n",
        "\n",
        "        writer.writerow(header)\n",
        "        #csv_writer.writerow(header)\n",
        "        count += 1\n",
        " \n",
        "        # Writing data of CSV file\n",
        "        writer.writerow(l.values())\n",
        "    else:\n",
        "      writer.writerow(l.values())\n"
      ],
      "execution_count": 15,
      "outputs": []
    },
    {
      "cell_type": "code",
      "metadata": {
        "id": "6RxTMcvHGlwM"
      },
      "source": [
        "  print(l.keys())\n",
        "  print(l.values())\n",
        "  print(type(l.keys()))\n",
        "  header_list= list(l.keys())\n",
        "  row_values= list(l.values())\n",
        "  print(header_list)\n",
        "  print(row_values)"
      ],
      "execution_count": null,
      "outputs": []
    },
    {
      "cell_type": "code",
      "metadata": {
        "id": "t6FccpQTc44j"
      },
      "source": [
        "count = 0\n",
        "for items in list1:\n",
        "  print(items)\n",
        "  api_url= 'https://api.kivaws.org/v1/loans/'+str(items) + '.json'\n",
        "  r = requests.get(api_url, headers= headers)\n",
        "  soup = BeautifulSoup(r.text, 'html.parser')\n",
        "  \n",
        "  data = json.loads(str(soup))\n",
        "  loan_data= data['loans']\n",
        "  #open a file for writing\n",
        "  #data_file = open('data_file.csv', 'w')\n",
        "\n",
        "  # create the csv writer object\n",
        "  csv_writer = csv.writer(data_file)\n",
        "\n",
        "  # Counter variable used for writing headers to the CSV file\n",
        "\n",
        "\n",
        "  \n",
        "with open('data_file.csv', 'w', encoding='UTF-8', newline='') as f: \n",
        "  for l in loan_data:\n",
        "    if count == 0:\n",
        " \n",
        "      # Writing headers of CSV file\n",
        "      header = l.keys()\n",
        "      csv_writer.writerow(header)\n",
        "      count += 1\n",
        " \n",
        "      # Writing data of CSV file\n",
        "      csv_writer.writerow(l.values())\n",
        "    else:\n",
        "      csv_writer.writerow(l.values())\n",
        "data_file.close()\n"
      ],
      "execution_count": null,
      "outputs": []
    },
    {
      "cell_type": "code",
      "metadata": {
        "id": "kd3K6Xlbc41a"
      },
      "source": [
        "api_url= 'https://api.kivaws.org/v1/loans/'+str(2223860) + '.json'\n",
        "r = requests.get(api_url, headers= headers)\n",
        "soup = BeautifulSoup(r.text, 'html.parser')"
      ],
      "execution_count": null,
      "outputs": []
    },
    {
      "cell_type": "code",
      "metadata": {
        "colab": {
          "base_uri": "https://localhost:8080/"
        },
        "id": "okLj4UmBqzvL",
        "outputId": "2f96a717-1563-406d-aa72-e916a29fcb40"
      },
      "source": [
        "soup"
      ],
      "execution_count": null,
      "outputs": [
        {
          "output_type": "execute_result",
          "data": {
            "text/plain": [
              "{\"loans\":[{\"id\":2223860,\"name\":\"Lisa\",\"description\":{\"languages\":[\"en\"],\"texts\":{\"en\":\"My husband and I have 7+ years of experience in the bar and restaurant business, and know what a struggle it is to acquire seasonal tropical produce, process it, and use it while minimizing waste. We experienced this pressure while operating our own tiki bar in Hawaii. The craft cocktail and artisan food product industries emphasize locality and seasonality, but pursuing that goal means a lot of time, labor, and expense. For that reason, the industry is trending toward incorporating more preserved garnishes, but there's limited creativity and variety in the products currently available on the market.\\r\\n\\r\\nThat was our incentive to create HI &amp; Dry, where we do the fussy prep work so our customers don't have to. Brice has a mad scientist streak; he's a creative troubleshooter driven to try new things and improve existing ones. We purchase and dehydrate only Hawaiian-grown fruits and vegetables, and use them to create beautiful and inventive tropical garnishes for food and beverages.  It's important that our business aligns with our values: supporting small local farmers, reducing food waste, and easing the workload for other small businesses -- which in turn helps them deliver more interesting food\\/beverage products to their customers. The bonus is that we also get to showcase the amazing variety of products we are lucky enough to enjoy every day on Big Island.\\r\\n\\r\\nBut we were passionate tropical cocktail enthusiasts before we were business owners, committed to using local, quality ingredients from farm to glass. However, a lot of those products are expensive, fragile, and have a short shelf life once they are picked. HI &amp; Dry products will extend that shelf life, enabling the whole world to experience some aloha wherever they are, and enjoy Hawaiian produce year-round in their drinks and on their plates.\"}},\"status\":\"funded\",\"funded_amount\":8000,\"image\":{\"id\":4386537,\"template_id\":1},\"activity\":\"Food Production\\/Sales\",\"sector\":\"Food\",\"use\":\"us preserve and share the year-round bounty of Hawaii-grown tropical produce.\",\"location\":{\"country_code\":\"US\",\"country\":\"United States\",\"town\":\"Kailua Kona\",\"geo\":{\"level\":\"town\",\"pairs\":\"19.6531 -155.9798\",\"type\":\"point\"}},\"posted_date\":\"2021-08-13T16:15:04Z\",\"planned_expiration_date\":\"2021-09-13T18:13:40Z\",\"loan_amount\":8000,\"lender_count\":93,\"bonus_credit_eligibility\":false,\"tags\":[{\"name\":\"user_favorite\",\"id\":\"4\"},{\"name\":\"#Woman-Owned Business\",\"id\":\"6\"},{\"name\":\"#Eco-friendly\",\"id\":\"9\"},{\"name\":\"#Vegan\",\"id\":\"10\"},{\"name\":\"#Biz Durable Asset\",\"id\":\"35\"}],\"borrowers\":[{\"first_name\":\"Lisa\",\"last_name\":\"\",\"gender\":\"F\",\"pictured\":true}],\"terms\":{\"disbursal_date\":\"2021-09-01T00:20:52Z\",\"disbursal_currency\":\"USD\",\"disbursal_amount\":8000,\"repayment_interval\":\"Irregularly\",\"repayment_term\":42,\"loan_amount\":8000,\"local_payments\":[],\"scheduled_payments\":[],\"loss_liability\":{\"nonpayment\":\"lender\",\"currency_exchange\":\"none\"}},\"payments\":[],\"funded_date\":\"2021-08-24T15:04:54Z\",\"journal_totals\":{\"entries\":0,\"bulkEntries\":0}}]}"
            ]
          },
          "metadata": {},
          "execution_count": 14
        }
      ]
    },
    {
      "cell_type": "code",
      "metadata": {
        "colab": {
          "base_uri": "https://localhost:8080/"
        },
        "id": "5Q2K_afaa5Es",
        "outputId": "a3faeebe-e4ea-4bb1-dbc1-e5011fc127ca"
      },
      "source": [
        "import json\n",
        "y = json.loads(str(soup))\n",
        "print(\"JSON string = \", y)"
      ],
      "execution_count": null,
      "outputs": [
        {
          "output_type": "stream",
          "name": "stdout",
          "text": [
            "JSON string =  {'loans': [{'id': 2223860, 'name': 'Lisa', 'description': {'languages': ['en'], 'texts': {'en': \"My husband and I have 7+ years of experience in the bar and restaurant business, and know what a struggle it is to acquire seasonal tropical produce, process it, and use it while minimizing waste. We experienced this pressure while operating our own tiki bar in Hawaii. The craft cocktail and artisan food product industries emphasize locality and seasonality, but pursuing that goal means a lot of time, labor, and expense. For that reason, the industry is trending toward incorporating more preserved garnishes, but there's limited creativity and variety in the products currently available on the market.\\r\\n\\r\\nThat was our incentive to create HI &amp; Dry, where we do the fussy prep work so our customers don't have to. Brice has a mad scientist streak; he's a creative troubleshooter driven to try new things and improve existing ones. We purchase and dehydrate only Hawaiian-grown fruits and vegetables, and use them to create beautiful and inventive tropical garnishes for food and beverages.  It's important that our business aligns with our values: supporting small local farmers, reducing food waste, and easing the workload for other small businesses -- which in turn helps them deliver more interesting food/beverage products to their customers. The bonus is that we also get to showcase the amazing variety of products we are lucky enough to enjoy every day on Big Island.\\r\\n\\r\\nBut we were passionate tropical cocktail enthusiasts before we were business owners, committed to using local, quality ingredients from farm to glass. However, a lot of those products are expensive, fragile, and have a short shelf life once they are picked. HI &amp; Dry products will extend that shelf life, enabling the whole world to experience some aloha wherever they are, and enjoy Hawaiian produce year-round in their drinks and on their plates.\"}}, 'status': 'funded', 'funded_amount': 8000, 'image': {'id': 4386537, 'template_id': 1}, 'activity': 'Food Production/Sales', 'sector': 'Food', 'use': 'us preserve and share the year-round bounty of Hawaii-grown tropical produce.', 'location': {'country_code': 'US', 'country': 'United States', 'town': 'Kailua Kona', 'geo': {'level': 'town', 'pairs': '19.6531 -155.9798', 'type': 'point'}}, 'posted_date': '2021-08-13T16:15:04Z', 'planned_expiration_date': '2021-09-13T18:13:40Z', 'loan_amount': 8000, 'lender_count': 93, 'bonus_credit_eligibility': False, 'tags': [{'name': 'user_favorite', 'id': '4'}, {'name': '#Woman-Owned Business', 'id': '6'}, {'name': '#Eco-friendly', 'id': '9'}, {'name': '#Vegan', 'id': '10'}, {'name': '#Biz Durable Asset', 'id': '35'}], 'borrowers': [{'first_name': 'Lisa', 'last_name': '', 'gender': 'F', 'pictured': True}], 'terms': {'disbursal_date': '2021-09-01T00:20:52Z', 'disbursal_currency': 'USD', 'disbursal_amount': 8000, 'repayment_interval': 'Irregularly', 'repayment_term': 42, 'loan_amount': 8000, 'local_payments': [], 'scheduled_payments': [], 'loss_liability': {'nonpayment': 'lender', 'currency_exchange': 'none'}}, 'payments': [], 'funded_date': '2021-08-24T15:04:54Z', 'journal_totals': {'entries': 0, 'bulkEntries': 0}}]}\n"
          ]
        }
      ]
    },
    {
      "cell_type": "code",
      "metadata": {
        "colab": {
          "base_uri": "https://localhost:8080/"
        },
        "id": "PPpKEgdVrF95",
        "outputId": "9a04e87e-9900-42af-d396-b00b199e71da"
      },
      "source": [
        "print(y['loans'])"
      ],
      "execution_count": null,
      "outputs": [
        {
          "output_type": "stream",
          "name": "stdout",
          "text": [
            "[{'id': 2223860, 'name': 'Lisa', 'description': {'languages': ['en'], 'texts': {'en': \"My husband and I have 7+ years of experience in the bar and restaurant business, and know what a struggle it is to acquire seasonal tropical produce, process it, and use it while minimizing waste. We experienced this pressure while operating our own tiki bar in Hawaii. The craft cocktail and artisan food product industries emphasize locality and seasonality, but pursuing that goal means a lot of time, labor, and expense. For that reason, the industry is trending toward incorporating more preserved garnishes, but there's limited creativity and variety in the products currently available on the market.\\r\\n\\r\\nThat was our incentive to create HI &amp; Dry, where we do the fussy prep work so our customers don't have to. Brice has a mad scientist streak; he's a creative troubleshooter driven to try new things and improve existing ones. We purchase and dehydrate only Hawaiian-grown fruits and vegetables, and use them to create beautiful and inventive tropical garnishes for food and beverages.  It's important that our business aligns with our values: supporting small local farmers, reducing food waste, and easing the workload for other small businesses -- which in turn helps them deliver more interesting food/beverage products to their customers. The bonus is that we also get to showcase the amazing variety of products we are lucky enough to enjoy every day on Big Island.\\r\\n\\r\\nBut we were passionate tropical cocktail enthusiasts before we were business owners, committed to using local, quality ingredients from farm to glass. However, a lot of those products are expensive, fragile, and have a short shelf life once they are picked. HI &amp; Dry products will extend that shelf life, enabling the whole world to experience some aloha wherever they are, and enjoy Hawaiian produce year-round in their drinks and on their plates.\"}}, 'status': 'funded', 'funded_amount': 8000, 'image': {'id': 4386537, 'template_id': 1}, 'activity': 'Food Production/Sales', 'sector': 'Food', 'use': 'us preserve and share the year-round bounty of Hawaii-grown tropical produce.', 'location': {'country_code': 'US', 'country': 'United States', 'town': 'Kailua Kona', 'geo': {'level': 'town', 'pairs': '19.6531 -155.9798', 'type': 'point'}}, 'posted_date': '2021-08-13T16:15:04Z', 'planned_expiration_date': '2021-09-13T18:13:40Z', 'loan_amount': 8000, 'lender_count': 93, 'bonus_credit_eligibility': False, 'tags': [{'name': 'user_favorite', 'id': '4'}, {'name': '#Woman-Owned Business', 'id': '6'}, {'name': '#Eco-friendly', 'id': '9'}, {'name': '#Vegan', 'id': '10'}, {'name': '#Biz Durable Asset', 'id': '35'}], 'borrowers': [{'first_name': 'Lisa', 'last_name': '', 'gender': 'F', 'pictured': True}], 'terms': {'disbursal_date': '2021-09-01T00:20:52Z', 'disbursal_currency': 'USD', 'disbursal_amount': 8000, 'repayment_interval': 'Irregularly', 'repayment_term': 42, 'loan_amount': 8000, 'local_payments': [], 'scheduled_payments': [], 'loss_liability': {'nonpayment': 'lender', 'currency_exchange': 'none'}}, 'payments': [], 'funded_date': '2021-08-24T15:04:54Z', 'journal_totals': {'entries': 0, 'bulkEntries': 0}}]\n"
          ]
        }
      ]
    },
    {
      "cell_type": "code",
      "metadata": {
        "id": "a7us29TqsTTp"
      },
      "source": [
        "data = json.loads(str(soup))\n"
      ],
      "execution_count": null,
      "outputs": []
    },
    {
      "cell_type": "code",
      "metadata": {
        "colab": {
          "base_uri": "https://localhost:8080/"
        },
        "id": "BE5RLTG8s_ds",
        "outputId": "ff89000d-761a-42b4-a180-9e1e18be0836"
      },
      "source": [
        "print(json.dumps(data, indent = 4, sort_keys=True))"
      ],
      "execution_count": null,
      "outputs": [
        {
          "output_type": "stream",
          "name": "stdout",
          "text": [
            "{\n",
            "    \"loans\": [\n",
            "        {\n",
            "            \"activity\": \"Food Production/Sales\",\n",
            "            \"bonus_credit_eligibility\": false,\n",
            "            \"borrowers\": [\n",
            "                {\n",
            "                    \"first_name\": \"Lisa\",\n",
            "                    \"gender\": \"F\",\n",
            "                    \"last_name\": \"\",\n",
            "                    \"pictured\": true\n",
            "                }\n",
            "            ],\n",
            "            \"description\": {\n",
            "                \"languages\": [\n",
            "                    \"en\"\n",
            "                ],\n",
            "                \"texts\": {\n",
            "                    \"en\": \"My husband and I have 7+ years of experience in the bar and restaurant business, and know what a struggle it is to acquire seasonal tropical produce, process it, and use it while minimizing waste. We experienced this pressure while operating our own tiki bar in Hawaii. The craft cocktail and artisan food product industries emphasize locality and seasonality, but pursuing that goal means a lot of time, labor, and expense. For that reason, the industry is trending toward incorporating more preserved garnishes, but there's limited creativity and variety in the products currently available on the market.\\r\\n\\r\\nThat was our incentive to create HI &amp; Dry, where we do the fussy prep work so our customers don't have to. Brice has a mad scientist streak; he's a creative troubleshooter driven to try new things and improve existing ones. We purchase and dehydrate only Hawaiian-grown fruits and vegetables, and use them to create beautiful and inventive tropical garnishes for food and beverages.  It's important that our business aligns with our values: supporting small local farmers, reducing food waste, and easing the workload for other small businesses -- which in turn helps them deliver more interesting food/beverage products to their customers. The bonus is that we also get to showcase the amazing variety of products we are lucky enough to enjoy every day on Big Island.\\r\\n\\r\\nBut we were passionate tropical cocktail enthusiasts before we were business owners, committed to using local, quality ingredients from farm to glass. However, a lot of those products are expensive, fragile, and have a short shelf life once they are picked. HI &amp; Dry products will extend that shelf life, enabling the whole world to experience some aloha wherever they are, and enjoy Hawaiian produce year-round in their drinks and on their plates.\"\n",
            "                }\n",
            "            },\n",
            "            \"funded_amount\": 8000,\n",
            "            \"funded_date\": \"2021-08-24T15:04:54Z\",\n",
            "            \"id\": 2223860,\n",
            "            \"image\": {\n",
            "                \"id\": 4386537,\n",
            "                \"template_id\": 1\n",
            "            },\n",
            "            \"journal_totals\": {\n",
            "                \"bulkEntries\": 0,\n",
            "                \"entries\": 0\n",
            "            },\n",
            "            \"lender_count\": 93,\n",
            "            \"loan_amount\": 8000,\n",
            "            \"location\": {\n",
            "                \"country\": \"United States\",\n",
            "                \"country_code\": \"US\",\n",
            "                \"geo\": {\n",
            "                    \"level\": \"town\",\n",
            "                    \"pairs\": \"19.6531 -155.9798\",\n",
            "                    \"type\": \"point\"\n",
            "                },\n",
            "                \"town\": \"Kailua Kona\"\n",
            "            },\n",
            "            \"name\": \"Lisa\",\n",
            "            \"payments\": [],\n",
            "            \"planned_expiration_date\": \"2021-09-13T18:13:40Z\",\n",
            "            \"posted_date\": \"2021-08-13T16:15:04Z\",\n",
            "            \"sector\": \"Food\",\n",
            "            \"status\": \"funded\",\n",
            "            \"tags\": [\n",
            "                {\n",
            "                    \"id\": \"4\",\n",
            "                    \"name\": \"user_favorite\"\n",
            "                },\n",
            "                {\n",
            "                    \"id\": \"6\",\n",
            "                    \"name\": \"#Woman-Owned Business\"\n",
            "                },\n",
            "                {\n",
            "                    \"id\": \"9\",\n",
            "                    \"name\": \"#Eco-friendly\"\n",
            "                },\n",
            "                {\n",
            "                    \"id\": \"10\",\n",
            "                    \"name\": \"#Vegan\"\n",
            "                },\n",
            "                {\n",
            "                    \"id\": \"35\",\n",
            "                    \"name\": \"#Biz Durable Asset\"\n",
            "                }\n",
            "            ],\n",
            "            \"terms\": {\n",
            "                \"disbursal_amount\": 8000,\n",
            "                \"disbursal_currency\": \"USD\",\n",
            "                \"disbursal_date\": \"2021-09-01T00:20:52Z\",\n",
            "                \"loan_amount\": 8000,\n",
            "                \"local_payments\": [],\n",
            "                \"loss_liability\": {\n",
            "                    \"currency_exchange\": \"none\",\n",
            "                    \"nonpayment\": \"lender\"\n",
            "                },\n",
            "                \"repayment_interval\": \"Irregularly\",\n",
            "                \"repayment_term\": 42,\n",
            "                \"scheduled_payments\": []\n",
            "            },\n",
            "            \"use\": \"us preserve and share the year-round bounty of Hawaii-grown tropical produce.\"\n",
            "        }\n",
            "    ]\n",
            "}\n"
          ]
        }
      ]
    },
    {
      "cell_type": "code",
      "metadata": {
        "id": "5tvL95bftsYY"
      },
      "source": [
        "import json\n",
        "import csv"
      ],
      "execution_count": null,
      "outputs": []
    },
    {
      "cell_type": "code",
      "metadata": {
        "colab": {
          "base_uri": "https://localhost:8080/"
        },
        "id": "X3oz5eQ2tx7I",
        "outputId": "f86d75d6-5d45-41f4-ffbf-9bd7f9926017"
      },
      "source": [
        "loan_data= data['loans']\n",
        "loan_data"
      ],
      "execution_count": null,
      "outputs": [
        {
          "output_type": "execute_result",
          "data": {
            "text/plain": [
              "[{'activity': 'Food Production/Sales',\n",
              "  'bonus_credit_eligibility': False,\n",
              "  'borrowers': [{'first_name': 'Lisa',\n",
              "    'gender': 'F',\n",
              "    'last_name': '',\n",
              "    'pictured': True}],\n",
              "  'description': {'languages': ['en'],\n",
              "   'texts': {'en': \"My husband and I have 7+ years of experience in the bar and restaurant business, and know what a struggle it is to acquire seasonal tropical produce, process it, and use it while minimizing waste. We experienced this pressure while operating our own tiki bar in Hawaii. The craft cocktail and artisan food product industries emphasize locality and seasonality, but pursuing that goal means a lot of time, labor, and expense. For that reason, the industry is trending toward incorporating more preserved garnishes, but there's limited creativity and variety in the products currently available on the market.\\r\\n\\r\\nThat was our incentive to create HI &amp; Dry, where we do the fussy prep work so our customers don't have to. Brice has a mad scientist streak; he's a creative troubleshooter driven to try new things and improve existing ones. We purchase and dehydrate only Hawaiian-grown fruits and vegetables, and use them to create beautiful and inventive tropical garnishes for food and beverages.  It's important that our business aligns with our values: supporting small local farmers, reducing food waste, and easing the workload for other small businesses -- which in turn helps them deliver more interesting food/beverage products to their customers. The bonus is that we also get to showcase the amazing variety of products we are lucky enough to enjoy every day on Big Island.\\r\\n\\r\\nBut we were passionate tropical cocktail enthusiasts before we were business owners, committed to using local, quality ingredients from farm to glass. However, a lot of those products are expensive, fragile, and have a short shelf life once they are picked. HI &amp; Dry products will extend that shelf life, enabling the whole world to experience some aloha wherever they are, and enjoy Hawaiian produce year-round in their drinks and on their plates.\"}},\n",
              "  'funded_amount': 8000,\n",
              "  'funded_date': '2021-08-24T15:04:54Z',\n",
              "  'id': 2223860,\n",
              "  'image': {'id': 4386537, 'template_id': 1},\n",
              "  'journal_totals': {'bulkEntries': 0, 'entries': 0},\n",
              "  'lender_count': 93,\n",
              "  'loan_amount': 8000,\n",
              "  'location': {'country': 'United States',\n",
              "   'country_code': 'US',\n",
              "   'geo': {'level': 'town', 'pairs': '19.6531 -155.9798', 'type': 'point'},\n",
              "   'town': 'Kailua Kona'},\n",
              "  'name': 'Lisa',\n",
              "  'payments': [],\n",
              "  'planned_expiration_date': '2021-09-13T18:13:40Z',\n",
              "  'posted_date': '2021-08-13T16:15:04Z',\n",
              "  'sector': 'Food',\n",
              "  'status': 'funded',\n",
              "  'tags': [{'id': '4', 'name': 'user_favorite'},\n",
              "   {'id': '6', 'name': '#Woman-Owned Business'},\n",
              "   {'id': '9', 'name': '#Eco-friendly'},\n",
              "   {'id': '10', 'name': '#Vegan'},\n",
              "   {'id': '35', 'name': '#Biz Durable Asset'}],\n",
              "  'terms': {'disbursal_amount': 8000,\n",
              "   'disbursal_currency': 'USD',\n",
              "   'disbursal_date': '2021-09-01T00:20:52Z',\n",
              "   'loan_amount': 8000,\n",
              "   'local_payments': [],\n",
              "   'loss_liability': {'currency_exchange': 'none', 'nonpayment': 'lender'},\n",
              "   'repayment_interval': 'Irregularly',\n",
              "   'repayment_term': 42,\n",
              "   'scheduled_payments': []},\n",
              "  'use': 'us preserve and share the year-round bounty of Hawaii-grown tropical produce.'}]"
            ]
          },
          "metadata": {},
          "execution_count": 29
        }
      ]
    },
    {
      "cell_type": "code",
      "metadata": {
        "id": "TopR6TeluFvo"
      },
      "source": [
        "#open a file for writing\n",
        "data_file = open('data_file.csv', 'w')\n",
        "\n",
        "# create the csv writer object\n",
        "csv_writer = csv.writer(data_file)\n",
        "\n",
        "# Counter variable used for writing headers to the CSV file\n",
        "\n",
        "\n",
        "count = 0\n",
        " \n",
        "for l in loan_data:\n",
        "    if count == 0:\n",
        " \n",
        "        # Writing headers of CSV file\n",
        "        header = l.keys()\n",
        "        csv_writer.writerow(header)\n",
        "        count += 1\n",
        " \n",
        "    # Writing data of CSV file\n",
        "    csv_writer.writerow(l.values())\n",
        " \n",
        "data_file.close()"
      ],
      "execution_count": null,
      "outputs": []
    },
    {
      "cell_type": "code",
      "metadata": {
        "id": "DR5PLbTeuvSf"
      },
      "source": [
        "new= pd.read_csv('/content/data_file.csv')"
      ],
      "execution_count": null,
      "outputs": []
    },
    {
      "cell_type": "code",
      "metadata": {
        "colab": {
          "base_uri": "https://localhost:8080/",
          "height": 239
        },
        "id": "11B3ipHZu4iX",
        "outputId": "a4d2fa49-97e3-490e-8a26-9cb875ff55fc"
      },
      "source": [
        "new.head()"
      ],
      "execution_count": null,
      "outputs": [
        {
          "output_type": "execute_result",
          "data": {
            "text/html": [
              "<div>\n",
              "<style scoped>\n",
              "    .dataframe tbody tr th:only-of-type {\n",
              "        vertical-align: middle;\n",
              "    }\n",
              "\n",
              "    .dataframe tbody tr th {\n",
              "        vertical-align: top;\n",
              "    }\n",
              "\n",
              "    .dataframe thead th {\n",
              "        text-align: right;\n",
              "    }\n",
              "</style>\n",
              "<table border=\"1\" class=\"dataframe\">\n",
              "  <thead>\n",
              "    <tr style=\"text-align: right;\">\n",
              "      <th></th>\n",
              "      <th>id</th>\n",
              "      <th>name</th>\n",
              "      <th>description</th>\n",
              "      <th>status</th>\n",
              "      <th>funded_amount</th>\n",
              "      <th>image</th>\n",
              "      <th>activity</th>\n",
              "      <th>sector</th>\n",
              "      <th>use</th>\n",
              "      <th>location</th>\n",
              "      <th>posted_date</th>\n",
              "      <th>planned_expiration_date</th>\n",
              "      <th>loan_amount</th>\n",
              "      <th>lender_count</th>\n",
              "      <th>bonus_credit_eligibility</th>\n",
              "      <th>tags</th>\n",
              "      <th>borrowers</th>\n",
              "      <th>terms</th>\n",
              "      <th>payments</th>\n",
              "      <th>funded_date</th>\n",
              "      <th>journal_totals</th>\n",
              "    </tr>\n",
              "  </thead>\n",
              "  <tbody>\n",
              "    <tr>\n",
              "      <th>0</th>\n",
              "      <td>2223860</td>\n",
              "      <td>Lisa</td>\n",
              "      <td>{'languages': ['en'], 'texts': {'en': \"My husb...</td>\n",
              "      <td>funded</td>\n",
              "      <td>8000</td>\n",
              "      <td>{'id': 4386537, 'template_id': 1}</td>\n",
              "      <td>Food Production/Sales</td>\n",
              "      <td>Food</td>\n",
              "      <td>us preserve and share the year-round bounty of...</td>\n",
              "      <td>{'country_code': 'US', 'country': 'United Stat...</td>\n",
              "      <td>2021-08-13T16:15:04Z</td>\n",
              "      <td>2021-09-13T18:13:40Z</td>\n",
              "      <td>8000</td>\n",
              "      <td>93</td>\n",
              "      <td>False</td>\n",
              "      <td>[{'name': 'user_favorite', 'id': '4'}, {'name'...</td>\n",
              "      <td>[{'first_name': 'Lisa', 'last_name': '', 'gend...</td>\n",
              "      <td>{'disbursal_date': '2021-09-01T00:20:52Z', 'di...</td>\n",
              "      <td>[]</td>\n",
              "      <td>2021-08-24T15:04:54Z</td>\n",
              "      <td>{'entries': 0, 'bulkEntries': 0}</td>\n",
              "    </tr>\n",
              "  </tbody>\n",
              "</table>\n",
              "</div>"
            ],
            "text/plain": [
              "        id  name  ...           funded_date                    journal_totals\n",
              "0  2223860  Lisa  ...  2021-08-24T15:04:54Z  {'entries': 0, 'bulkEntries': 0}\n",
              "\n",
              "[1 rows x 21 columns]"
            ]
          },
          "metadata": {},
          "execution_count": 32
        }
      ]
    }
  ]
}