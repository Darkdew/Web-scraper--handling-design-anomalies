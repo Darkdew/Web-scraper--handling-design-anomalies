{
  "nbformat": 4,
  "nbformat_minor": 0,
  "metadata": {
    "colab": {
      "name": "au.reachout_generic.ipynb",
      "provenance": [],
      "collapsed_sections": [],
      "authorship_tag": "ABX9TyMfx5OZxnt6iofjficF2u0i",
      "include_colab_link": true
    },
    "kernelspec": {
      "name": "python3",
      "display_name": "Python 3"
    },
    "language_info": {
      "name": "python"
    }
  },
  "cells": [
    {
      "cell_type": "markdown",
      "metadata": {
        "id": "view-in-github",
        "colab_type": "text"
      },
      "source": [
        "<a href=\"https://colab.research.google.com/github/Darkdew/Web-scraper--handling-design-anomalies/blob/main/au_reachout_generic.ipynb\" target=\"_parent\"><img src=\"https://colab.research.google.com/assets/colab-badge.svg\" alt=\"Open In Colab\"/></a>"
      ]
    },
    {
      "cell_type": "code",
      "metadata": {
        "id": "BZOAHF2IKBhJ"
      },
      "source": [
        "import pandas as pd\n",
        "import requests\n",
        "from bs4 import BeautifulSoup\n",
        "headers = {'User-Agent':'Mozilla/5.0 (Windows NT 10.0; Win64; x64) AppleWebKit/537.36 (KHTML, like Gecko) Chrome/91.0.4472.77 Safari/537.36'}\n",
        "url = 'https://forums.au.reachout.com/t5/forums/searchpage/tab/message?advanced=false&allow_punctuation=false&q=chlamydia'\n",
        "\n",
        "r = requests.get(url, headers= headers)\n",
        "soup = BeautifulSoup(r.text, 'html.parser')"
      ],
      "execution_count": 63,
      "outputs": []
    },
    {
      "cell_type": "code",
      "metadata": {
        "colab": {
          "base_uri": "https://localhost:8080/"
        },
        "id": "c4s6XpnHKggV",
        "outputId": "999e53a7-cd7c-48ff-f6a5-4078b0b7252d"
      },
      "source": [
        "full_list=[]\n",
        "\n",
        "#counting number of available threads on page=n\n",
        "threads= soup.find_all('a',{'class':'lia-link-navigation lia-page-link lia-user-name-link'})\n",
        "number_of_threads=len(threads)\n",
        "\n",
        "for count in range(number_of_threads):\n",
        "            temp_list=[]\n",
        "            # Extracting thread title\n",
        "            thread_title_raw= soup.find_all('span',{'class': 'lia-message-unread lia-message-unread-windows'})[count].text\n",
        "            thread_title= thread_title_raw.replace('\\n','').replace('\\t','')\n",
        "\n",
        "            #Extracting Username\n",
        "            threads1= soup.find_all('a',{'class':'lia-link-navigation lia-page-link lia-user-name-link'})\n",
        "            username= threads1[count].find('span').text\n",
        "            print(username)\n",
        "\n",
        "            #Extracting_profile_url\n",
        "            profile_url= threads1[count]['href']\n",
        "            print(profile_url)\n",
        "\n",
        "            \n",
        "            r2=wd.get(profile_url)\n",
        "            r3=wd.page_source#)  # results\n",
        "            soup2 = BeautifulSoup(r3, 'html.parser')\n",
        "\n",
        "            generics= soup2.find_all('div', {'class':'B3EUPNXoIzuOys-6RrYe9'})[0].find_all('li',{'class':'_3Bw5KIqCTKiMsOeIV9fSTZ'})\n",
        "\n",
        "            ##reactions\n",
        "            reactions=generics[0].find('span',{'class':'_2plerxB_dRyqlQe66M6Ay3'}).text\n",
        "            \n",
        "            ##posts\n",
        "            posts= generics[1].find('span',{'class':'_2plerxB_dRyqlQe66M6Ay3'}).text\n",
        "\n",
        "            ##replies\n",
        "            replies= generics[2].find('span',{'class':'_2plerxB_dRyqlQe66M6Ay3'}).text\n",
        "\n",
        "            ##lastActive\n",
        "            lastActive= soup2.find_all('div', {'class':'_3Bw5KIqCTKiMsOeIV9fSTZ'})[0].find('span',{'class':'_2plerxB_dRyqlQe66M6Ay3'}).text\n",
        "\n",
        "            temp_list=[thread_title, username, profile_url,reactions,posts,replies, lastActive]\n",
        "            full_list.append(temp_list)\n",
        "  \n",
        "df = pd.DataFrame(full_list,columns=(\"Thread_Title\",\"Username\",\"Profile_url\",\"Reactions\",\"Posts\",\"Replies\", \"LastActive\"))\n",
        "df.to_csv('/content/sample_data/master_df_aus1_chlamydia.csv', index= False)\n"
      ],
      "execution_count": 65,
      "outputs": [
        {
          "output_type": "stream",
          "text": [
            "Hicks\n",
            "https://forums.au.reachout.com/t5/user/viewprofilepage/user-id/6676\n",
            "Sophie-RO\n",
            "https://forums.au.reachout.com/t5/user/viewprofilepage/user-id/52\n",
            "Chessca_H\n",
            "https://forums.au.reachout.com/t5/user/viewprofilepage/user-id/4265\n",
            "AnotherMishap\n",
            "https://forums.au.reachout.com/t5/user/viewprofilepage/user-id/6291\n",
            "Ben-RO\n",
            "https://forums.au.reachout.com/t5/user/viewprofilepage/user-id/7149\n"
          ],
          "name": "stdout"
        }
      ]
    },
    {
      "cell_type": "code",
      "metadata": {
        "id": "xTZkXCPeRK9r"
      },
      "source": [
        "df= pd.read_csv('/content/sample_data/master_df_aus1_chlamydia.csv')"
      ],
      "execution_count": 66,
      "outputs": []
    },
    {
      "cell_type": "code",
      "metadata": {
        "colab": {
          "base_uri": "https://localhost:8080/",
          "height": 205
        },
        "id": "ElNWdhkIdwoN",
        "outputId": "35357b8a-eb83-4948-d03e-59a3d953917d"
      },
      "source": [
        "df.head()"
      ],
      "execution_count": 67,
      "outputs": [
        {
          "output_type": "execute_result",
          "data": {
            "text/html": [
              "<div>\n",
              "<style scoped>\n",
              "    .dataframe tbody tr th:only-of-type {\n",
              "        vertical-align: middle;\n",
              "    }\n",
              "\n",
              "    .dataframe tbody tr th {\n",
              "        vertical-align: top;\n",
              "    }\n",
              "\n",
              "    .dataframe thead th {\n",
              "        text-align: right;\n",
              "    }\n",
              "</style>\n",
              "<table border=\"1\" class=\"dataframe\">\n",
              "  <thead>\n",
              "    <tr style=\"text-align: right;\">\n",
              "      <th></th>\n",
              "      <th>Thread_Title</th>\n",
              "      <th>Username</th>\n",
              "      <th>Profile_url</th>\n",
              "      <th>Reactions</th>\n",
              "      <th>Posts</th>\n",
              "      <th>Replies</th>\n",
              "      <th>LastActive</th>\n",
              "    </tr>\n",
              "  </thead>\n",
              "  <tbody>\n",
              "    <tr>\n",
              "      <th>0</th>\n",
              "      <td>I'm hiding my relationship and so is he is tha...</td>\n",
              "      <td>Hicks</td>\n",
              "      <td>https://forums.au.reachout.com/t5/user/viewpro...</td>\n",
              "      <td>14</td>\n",
              "      <td>14</td>\n",
              "      <td>47</td>\n",
              "      <td>14th March</td>\n",
              "    </tr>\n",
              "    <tr>\n",
              "      <th>1</th>\n",
              "      <td>Sex: myth busters!</td>\n",
              "      <td>Sophie-RO</td>\n",
              "      <td>https://forums.au.reachout.com/t5/user/viewpro...</td>\n",
              "      <td>3,381</td>\n",
              "      <td>200</td>\n",
              "      <td>3,261</td>\n",
              "      <td>14th October</td>\n",
              "    </tr>\n",
              "    <tr>\n",
              "      <th>2</th>\n",
              "      <td>[Special Guest] Supporting Survivors Part 2: L...</td>\n",
              "      <td>Chessca_H</td>\n",
              "      <td>https://forums.au.reachout.com/t5/user/viewpro...</td>\n",
              "      <td>1,481</td>\n",
              "      <td>17</td>\n",
              "      <td>2,129</td>\n",
              "      <td>8th December</td>\n",
              "    </tr>\n",
              "    <tr>\n",
              "      <th>3</th>\n",
              "      <td>I don't know what to do anymore.</td>\n",
              "      <td>AnotherMishap</td>\n",
              "      <td>https://forums.au.reachout.com/t5/user/viewpro...</td>\n",
              "      <td>1</td>\n",
              "      <td>1</td>\n",
              "      <td>1</td>\n",
              "      <td>22nd October</td>\n",
              "    </tr>\n",
              "    <tr>\n",
              "      <th>4</th>\n",
              "      <td>[Special Guest] Sexual Health with Nurse Netti...</td>\n",
              "      <td>Ben-RO</td>\n",
              "      <td>https://forums.au.reachout.com/t5/user/viewpro...</td>\n",
              "      <td>4,612</td>\n",
              "      <td>196</td>\n",
              "      <td>6,017</td>\n",
              "      <td>3rd July</td>\n",
              "    </tr>\n",
              "  </tbody>\n",
              "</table>\n",
              "</div>"
            ],
            "text/plain": [
              "                                        Thread_Title  ...    LastActive\n",
              "0  I'm hiding my relationship and so is he is tha...  ...    14th March\n",
              "1                                 Sex: myth busters!  ...  14th October\n",
              "2  [Special Guest] Supporting Survivors Part 2: L...  ...  8th December\n",
              "3                   I don't know what to do anymore.  ...  22nd October\n",
              "4  [Special Guest] Sexual Health with Nurse Netti...  ...      3rd July\n",
              "\n",
              "[5 rows x 7 columns]"
            ]
          },
          "metadata": {
            "tags": []
          },
          "execution_count": 67
        }
      ]
    },
    {
      "cell_type": "code",
      "metadata": {
        "colab": {
          "base_uri": "https://localhost:8080/"
        },
        "id": "Rxc-0i5zRVda",
        "outputId": "ad43e9bb-e3a7-45b7-d181-1d9a2be2879f"
      },
      "source": [
        "full_final_list=[]\n",
        "for index, row in df.iterrows():\n",
        "    temp_list1 =[]\n",
        "    headers = {'User-Agent':'Mozilla/5.0 (Windows NT 10.0; Win64; x64) AppleWebKit/537.36 (KHTML, like Gecko) Chrome/91.0.4472.77 Safari/537.36'}\n",
        "    \n",
        "    profile_url= row['Profile_url']\n",
        "    print(profile_url)\n",
        "\n",
        "    #crawling through profile page\n",
        "    wd = webdriver.Chrome('chromedriver',options=options)\n",
        "    r2=wd.get(profile_url)\n",
        "    r3=wd.page_source#)  # results\n",
        "    soup3 = BeautifulSoup(r3, 'html.parser')\n",
        "    \n",
        "    #\n",
        "    threads_on_page= soup3.find_all('div', {'class':'ro-feed-post__body'})#[].text\n",
        "    print(threads_on_page)\n",
        "    print(\"len(threads_on_page)\", len(threads_on_page))\n",
        "\n",
        "    for i in range(len(threads_on_page)):\n",
        "      response_text= threads_on_page[i].text\n",
        "\n",
        "      if 'read more' in str(threads_on_page[i].text):\n",
        "        new_url= soup3.find_all('div',{'class':'ro-feed-post__body'})[i].find('a')['href']\n",
        "        profile_url_new = new_url\n",
        "        print(\"profile_url_new \\n\", profile_url_new)\n",
        "        \n",
        "        wd = webdriver.Chrome('chromedriver',options=options)\n",
        "        r4=wd.get(profile_url_new)\n",
        "        r5=wd.page_source#)  # results\n",
        "        soup4 = BeautifulSoup(r5, 'html.parser')\n",
        "\n",
        "        response_text= soup4.find_all('div',{'class':'ro-topic__body'})[0]\n",
        "        response_time= soup4.find_all('span',{'class':'ro-topic__author__post-time'})[0].text\n",
        "\n",
        "      else:\n",
        "        response_text= response_text\n",
        "        response_time= soup3.find_all('div',{'class':'ro-feed-post__author__post-details'})[i].find('span').text\n",
        "        print(response_time)\n",
        "\n",
        "      temp_list1= [row['Thread_Title'], row['Username'], row['Profile_url'], row['Reactions'], row['Posts'], row['Replies'], row['LastActive'], response_text, response_time]\n",
        "      full_final_list.append(temp_list1)\n",
        "\n",
        "df_final = pd.DataFrame(full_final_list,columns=(\"Thread_Title\",\"Username\",\"Profile_url\",\"Reactions\",\"Posts\",\"Replies\", \"LastActive\", \"Response_text\", \"Response_time\"))\n",
        "df_final.to_csv('/content/sample_data/master_df_aus1_chlamydia_final.csv', index= False)\n",
        "\n",
        " "
      ],
      "execution_count": 68,
      "outputs": [
        {
          "output_type": "stream",
          "text": [
            "https://forums.au.reachout.com/t5/user/viewprofilepage/user-id/6676\n",
            "[<div class=\"ro-feed-post__body\"><p>Idk I’ve seen him on and off for 4 months and he’s suggested that we actually go ahead and have sex either unprotected or protected but isn’t that wrong? I’ve already told him I have herpes all I’m really interested in is teasing him and just talking really though. He’s even suggested not charging m... <a classname=\"ro-feed-post__read-more\" href=\"https://forums.au.reachout.com/t5/Heavy-feels/I-ve-been-seeing-an-escort-for-4-months/td-p/423075\">read more</a></p></div>, <div class=\"ro-feed-post__body\"><p>We used to only have one dog and that wasn't bad as we could keep the back door open all the time and he wouldn't escape; but since we got another dog a few years ago she's only been getting pregnant, escaping and constantly barking. I feel like I can't live at home anymore as the dogs keep going to... <a classname=\"ro-feed-post__read-more\" href=\"https://forums.au.reachout.com/t5/Taking-care-of-myself/House-stuff/td-p/348569\">read more</a></p></div>, <div class=\"ro-feed-post__body\"><p>I have had herpes type 2 for 6 months and type 1 for 3 months. I've just been finding it hard to find a nice guy because I have to tell them before they even kiss me now. I dated a guy I met from tinder he said he didn't care about me having it but he didn't seem to care about me either. He always h... <a classname=\"ro-feed-post__read-more\" href=\"https://forums.au.reachout.com/t5/Taking-care-of-myself/Dating-with-an-STD/td-p/308097\">read more</a></p></div>]\n",
            "len(threads_on_page) 3\n",
            "profile_url_new \n",
            " https://forums.au.reachout.com/t5/Heavy-feels/I-ve-been-seeing-an-escort-for-4-months/td-p/423075\n",
            "profile_url_new \n",
            " https://forums.au.reachout.com/t5/Taking-care-of-myself/House-stuff/td-p/348569\n",
            "profile_url_new \n",
            " https://forums.au.reachout.com/t5/Taking-care-of-myself/Dating-with-an-STD/td-p/308097\n",
            "https://forums.au.reachout.com/t5/user/viewprofilepage/user-id/52\n",
            "[<div class=\"ro-feed-post__body\">We've had to remove this thread as it contains threats of violence. We're writing you an email - seems like the forums is not the best place for you right now. Where else could you access support?</div>, <div class=\"ro-feed-post__body\"><p>Hey guys! I was suggested that we do a <strong>Ask Me ALMOST Anything</strong> with the new team - @Lola-RO and @Amirah-RO!! So, here's your chance!</p>\n",
            "<p> </p>\n",
            "<p>Let's go!</p></div>, <div class=\"ro-feed-post__body\"><p>Hi y'all!! Just wanted to jump in to let you know we have finally hired the permanent replacements for Ben-RO &amp; Ngaio-RO.... (sob! miss them!)</p>\n",
            "<p> </p>\n",
            "<p>@Nick-RO, @Danielle_RO, &amp; @ElleBelle have been AMAZING and filling in while we were hiring the new team, so a BIG THANKS from me &amp; all of RO...... <a classname=\"ro-feed-post__read-more\" href=\"https://forums.au.reachout.com/t5/Hanging-out/News-from-the-RO-team/td-p/290509\">read more</a></p></div>]\n",
            "len(threads_on_page) 3\n",
            "07-03-2018 in \n",
            "21-02-2018 in \n",
            "profile_url_new \n",
            " https://forums.au.reachout.com/t5/Hanging-out/News-from-the-RO-team/td-p/290509\n",
            "https://forums.au.reachout.com/t5/user/viewprofilepage/user-id/4265\n",
            "[<div class=\"ro-feed-post__body\"><p><strong>(CW: Discussion of sexual assault)</strong></p><p> </p><p>How do we deal with the effects of sexual assault that come months, years or even decades later? On <strong>Thursday 26th at 8:30pm AEST</strong> we'll explore answers to that question together here. </p><p> </p><p>When the topic of sexual assault comes up, often we focus on the immediate afterm... <a classname=\"ro-feed-post__read-more\" href=\"https://forums.au.reachout.com/t5/Ask-me-almost-anything/Special-Guest-Supporting-Survivors-Part-2-Life-Long-Term/td-p/273241\">read more</a></p></div>, <div class=\"ro-feed-post__body\"><p>Hey RO people!</p><p> </p><p>At the moment, we're organising to do another Infobus session with SARC (the Sexual Assault Resource Centre in WA) for survivors of sexual assault and I really wanted to get an idea about what you guys think would be good to talk about during the session (here's a link to the session... <a classname=\"ro-feed-post__read-more\" href=\"https://forums.au.reachout.com/t5/Community-discussions/Content-Warning-Sexual-Assault-Survivors-Infobus-What-Should-We/td-p/260110\">read more</a></p></div>, <div class=\"ro-feed-post__body\"><p>In January we discussed the topic of consent, what it is, what it looks like and how to get it. This month, in accordance with Sexual Assault Awareness month, we’ll be talking about what it’s like when consent doesn’t enter the picture.</p>\n",
            "<p> </p>\n",
            "<p>Everyone who is sexually assaulted will experience it differe... <a classname=\"ro-feed-post__read-more\" href=\"https://forums.au.reachout.com/t5/Ask-me-almost-anything/SPECIAL-GUEST-Supporting-Survivors-trigger-warning-sexual/td-p/178361\">read more</a></p></div>]\n",
            "len(threads_on_page) 3\n",
            "profile_url_new \n",
            " https://forums.au.reachout.com/t5/Ask-me-almost-anything/Special-Guest-Supporting-Survivors-Part-2-Life-Long-Term/td-p/273241\n",
            "profile_url_new \n",
            " https://forums.au.reachout.com/t5/Community-discussions/Content-Warning-Sexual-Assault-Survivors-Infobus-What-Should-We/td-p/260110\n",
            "profile_url_new \n",
            " https://forums.au.reachout.com/t5/Ask-me-almost-anything/SPECIAL-GUEST-Supporting-Survivors-trigger-warning-sexual/td-p/178361\n",
            "https://forums.au.reachout.com/t5/user/viewprofilepage/user-id/6291\n",
            "[<div class=\"ro-feed-post__body\">Hi everyone. I am a freshman and about two years ago, I moved; I was in seventh grade at the time. When I first moved there, I was outgoing, nice, and happy. A girl had moved not even a week later. Right away, she started bullying me. She would spit on my face during PE and in the halls, punch my ba... <a classname=\"ro-feed-post__read-more\" href=\"https://forums.au.reachout.com/t5/Heavy-feels/I-don-t-know-what-to-do-anymore/td-p/113587\">read more</a></div>]\n",
            "len(threads_on_page) 1\n",
            "profile_url_new \n",
            " https://forums.au.reachout.com/t5/Heavy-feels/I-don-t-know-what-to-do-anymore/td-p/113587\n",
            "https://forums.au.reachout.com/t5/user/viewprofilepage/user-id/7149\n",
            "[]\n",
            "len(threads_on_page) 0\n"
          ],
          "name": "stdout"
        }
      ]
    }
  ]
}