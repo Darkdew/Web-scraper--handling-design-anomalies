{
  "nbformat": 4,
  "nbformat_minor": 0,
  "metadata": {
    "colab": {
      "name": "reddit urls.ipynb",
      "provenance": [],
      "authorship_tag": "ABX9TyPruHSJhTHSpA+s0e5hiGTp",
      "include_colab_link": true
    },
    "kernelspec": {
      "name": "python3",
      "display_name": "Python 3"
    },
    "language_info": {
      "name": "python"
    }
  },
  "cells": [
    {
      "cell_type": "markdown",
      "metadata": {
        "id": "view-in-github",
        "colab_type": "text"
      },
      "source": [
        "<a href=\"https://colab.research.google.com/github/Darkdew/Web-scraper--handling-design-anomalies/blob/main/reddit_urls.ipynb\" target=\"_parent\"><img src=\"https://colab.research.google.com/assets/colab-badge.svg\" alt=\"Open In Colab\"/></a>"
      ]
    },
    {
      "cell_type": "code",
      "metadata": {
        "colab": {
          "base_uri": "https://localhost:8080/"
        },
        "id": "xjC3dVL_LBql",
        "outputId": "0e97c1bb-dcf4-4ea5-addb-d9275460983c"
      },
      "source": [
        "pip install praw"
      ],
      "execution_count": 1,
      "outputs": [
        {
          "output_type": "stream",
          "text": [
            "Collecting praw\n",
            "  Downloading praw-7.4.0-py3-none-any.whl (167 kB)\n",
            "\u001b[K     |████████████████████████████████| 167 kB 5.2 MB/s \n",
            "\u001b[?25hCollecting prawcore<3,>=2.1\n",
            "  Downloading prawcore-2.3.0-py3-none-any.whl (16 kB)\n",
            "Collecting websocket-client>=0.54.0\n",
            "  Downloading websocket_client-1.2.1-py2.py3-none-any.whl (52 kB)\n",
            "\u001b[K     |████████████████████████████████| 52 kB 825 kB/s \n",
            "\u001b[?25hCollecting update-checker>=0.18\n",
            "  Downloading update_checker-0.18.0-py3-none-any.whl (7.0 kB)\n",
            "Requirement already satisfied: requests<3.0,>=2.6.0 in /usr/local/lib/python3.7/dist-packages (from prawcore<3,>=2.1->praw) (2.23.0)\n",
            "Requirement already satisfied: urllib3!=1.25.0,!=1.25.1,<1.26,>=1.21.1 in /usr/local/lib/python3.7/dist-packages (from requests<3.0,>=2.6.0->prawcore<3,>=2.1->praw) (1.24.3)\n",
            "Requirement already satisfied: certifi>=2017.4.17 in /usr/local/lib/python3.7/dist-packages (from requests<3.0,>=2.6.0->prawcore<3,>=2.1->praw) (2021.5.30)\n",
            "Requirement already satisfied: idna<3,>=2.5 in /usr/local/lib/python3.7/dist-packages (from requests<3.0,>=2.6.0->prawcore<3,>=2.1->praw) (2.10)\n",
            "Requirement already satisfied: chardet<4,>=3.0.2 in /usr/local/lib/python3.7/dist-packages (from requests<3.0,>=2.6.0->prawcore<3,>=2.1->praw) (3.0.4)\n",
            "Installing collected packages: websocket-client, update-checker, prawcore, praw\n",
            "Successfully installed praw-7.4.0 prawcore-2.3.0 update-checker-0.18.0 websocket-client-1.2.1\n"
          ],
          "name": "stdout"
        }
      ]
    },
    {
      "cell_type": "code",
      "metadata": {
        "id": "t7MPa6fBLF58"
      },
      "source": [
        "import praw\n",
        "import pandas as pd\n",
        "user_agent= \"Scraper 1.0 by /u/darkdewravi\"\n",
        "\n",
        "reddit= praw.Reddit(client_id=\"Mo8a1uHfCX2wC1uYe8DdGQ\", client_secret=\"BS7ztPorYisBqN_oDloPgSpHRUKRcg\", user_agent=user_agent, check_for_async=False)"
      ],
      "execution_count": 2,
      "outputs": []
    },
    {
      "cell_type": "code",
      "metadata": {
        "id": "mGQJX6oKLOrC"
      },
      "source": [
        "submission = reddit.submission(url=\"https://www.reddit.com/r/daddit/comments/2xsj31/did_any_of_you_dads_struggle_with_paternal/\")\n"
      ],
      "execution_count": 37,
      "outputs": []
    },
    {
      "cell_type": "code",
      "metadata": {
        "id": "O2VmZ_pfLpoa"
      },
      "source": [
        "topics_dict = { \"score\":[], \"id\":[], \"created\": [], \"body\":[]}\n",
        "\n",
        "submission.comments.replace_more(limit=0)\n",
        "\n",
        "\n",
        "#top_subreddit = subreddit.top(limit=None)\n",
        "for s in submission.comments:#reddit.subreddit('Postpartum_Depression').hot(limit=None):\n",
        "    #topics_dict[\"title\"].append(s.title)\n",
        "    topics_dict[\"score\"].append(s.score)\n",
        "    topics_dict[\"id\"].append(s.id)\n",
        "    #topics_dict[\"url\"].append(s.url)\n",
        "    #topics_dict[\"comms_num\"].append(s.num_comments)\n",
        "    topics_dict[\"created\"].append(s.created)\n",
        "    topics_dict[\"body\"].append(s.body)"
      ],
      "execution_count": 38,
      "outputs": []
    },
    {
      "cell_type": "code",
      "metadata": {
        "id": "b7QrVZJCN6HQ"
      },
      "source": [
        "import pandas as pd\n",
        "topics_data = pd.DataFrame(topics_dict)"
      ],
      "execution_count": 39,
      "outputs": []
    },
    {
      "cell_type": "code",
      "metadata": {
        "id": "hggjI5zXN_NA"
      },
      "source": [
        "topics_data.to_csv('/content/sample_data/did_any_of_you_dads_struggle_with_paternal.csv', index= False)"
      ],
      "execution_count": 40,
      "outputs": []
    },
    {
      "cell_type": "code",
      "metadata": {
        "colab": {
          "base_uri": "https://localhost:8080/",
          "height": 299
        },
        "id": "0M3vFyO3ORO5",
        "outputId": "afac0bce-864e-442e-d386-ca4cb5a370c6"
      },
      "source": [
        "topics_data"
      ],
      "execution_count": 41,
      "outputs": [
        {
          "output_type": "execute_result",
          "data": {
            "text/html": [
              "<div>\n",
              "<style scoped>\n",
              "    .dataframe tbody tr th:only-of-type {\n",
              "        vertical-align: middle;\n",
              "    }\n",
              "\n",
              "    .dataframe tbody tr th {\n",
              "        vertical-align: top;\n",
              "    }\n",
              "\n",
              "    .dataframe thead th {\n",
              "        text-align: right;\n",
              "    }\n",
              "</style>\n",
              "<table border=\"1\" class=\"dataframe\">\n",
              "  <thead>\n",
              "    <tr style=\"text-align: right;\">\n",
              "      <th></th>\n",
              "      <th>score</th>\n",
              "      <th>id</th>\n",
              "      <th>created</th>\n",
              "      <th>body</th>\n",
              "    </tr>\n",
              "  </thead>\n",
              "  <tbody>\n",
              "    <tr>\n",
              "      <th>0</th>\n",
              "      <td>5</td>\n",
              "      <td>cp2z2g1</td>\n",
              "      <td>1.425397e+09</td>\n",
              "      <td>I opted to stay home for 2 months with our lit...</td>\n",
              "    </tr>\n",
              "    <tr>\n",
              "      <th>1</th>\n",
              "      <td>5</td>\n",
              "      <td>cp32rdy</td>\n",
              "      <td>1.425403e+09</td>\n",
              "      <td>I had a hard time initially. I mean, I was ove...</td>\n",
              "    </tr>\n",
              "    <tr>\n",
              "      <th>2</th>\n",
              "      <td>5</td>\n",
              "      <td>cp32pzu</td>\n",
              "      <td>1.425403e+09</td>\n",
              "      <td>Babies automatically generate a hugely powerfu...</td>\n",
              "    </tr>\n",
              "    <tr>\n",
              "      <th>3</th>\n",
              "      <td>3</td>\n",
              "      <td>cp3isiv</td>\n",
              "      <td>1.425429e+09</td>\n",
              "      <td>I'm right there with you man. I hate this. I w...</td>\n",
              "    </tr>\n",
              "    <tr>\n",
              "      <th>4</th>\n",
              "      <td>3</td>\n",
              "      <td>cp3i22h</td>\n",
              "      <td>1.425427e+09</td>\n",
              "      <td>Dad of 5 months twins. Had my first \"crying se...</td>\n",
              "    </tr>\n",
              "    <tr>\n",
              "      <th>5</th>\n",
              "      <td>4</td>\n",
              "      <td>cp31yvn</td>\n",
              "      <td>1.425402e+09</td>\n",
              "      <td>I had the exact opposite feeling.  I worried t...</td>\n",
              "    </tr>\n",
              "    <tr>\n",
              "      <th>6</th>\n",
              "      <td>2</td>\n",
              "      <td>cp326c6</td>\n",
              "      <td>1.425402e+09</td>\n",
              "      <td>I think I'm going through something right now....</td>\n",
              "    </tr>\n",
              "    <tr>\n",
              "      <th>7</th>\n",
              "      <td>2</td>\n",
              "      <td>cp34306</td>\n",
              "      <td>1.425405e+09</td>\n",
              "      <td>The first few weeks after he was born was a re...</td>\n",
              "    </tr>\n",
              "  </tbody>\n",
              "</table>\n",
              "</div>"
            ],
            "text/plain": [
              "   score  ...                                               body\n",
              "0      5  ...  I opted to stay home for 2 months with our lit...\n",
              "1      5  ...  I had a hard time initially. I mean, I was ove...\n",
              "2      5  ...  Babies automatically generate a hugely powerfu...\n",
              "3      3  ...  I'm right there with you man. I hate this. I w...\n",
              "4      3  ...  Dad of 5 months twins. Had my first \"crying se...\n",
              "5      4  ...  I had the exact opposite feeling.  I worried t...\n",
              "6      2  ...  I think I'm going through something right now....\n",
              "7      2  ...  The first few weeks after he was born was a re...\n",
              "\n",
              "[8 rows x 4 columns]"
            ]
          },
          "metadata": {},
          "execution_count": 41
        }
      ]
    }
  ]
}